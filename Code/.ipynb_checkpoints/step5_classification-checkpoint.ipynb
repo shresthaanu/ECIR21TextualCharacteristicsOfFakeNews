{
 "cells": [
  {
   "cell_type": "markdown",
   "metadata": {
    "id": "PT6XJtZ6Xy1_"
   },
   "source": [
    "author: \"Anu Shrestha\"\n",
    "\n",
    "# Run classification with three different classifiers\n",
    "\n",
    "This code will run classification with three classifiers namely Linear SVM, Logistic Regression, Random Forest to generate the table 4, 5 and 6 used in paper."
   ]
  },
  {
   "cell_type": "markdown",
   "metadata": {
    "id": "ZYqhsKH8lZ5d"
   },
   "source": [
    "# Load required packages"
   ]
  },
  {
   "cell_type": "code",
   "execution_count": 1,
   "metadata": {
    "colab": {
     "base_uri": "https://localhost:8080/"
    },
    "executionInfo": {
     "elapsed": 922,
     "status": "ok",
     "timestamp": 1604113328883,
     "user": {
      "displayName": "Anu Shrestha",
      "photoUrl": "",
      "userId": "15243898305987665146"
     },
     "user_tz": 360
    },
    "id": "bzTW0USnJ_TP",
    "outputId": "70b3e936-4d18-4b85-bcf6-f4d0f3919555"
   },
   "outputs": [
    {
     "name": "stdout",
     "output_type": "stream",
     "text": [
      "Drive already mounted at /content/gdrive; to attempt to forcibly remount, call drive.mount(\"/content/gdrive\", force_remount=True).\n"
     ]
    }
   ],
   "source": [
    "import pandas as pd\n",
    "import numpy as np\n",
    "from scipy import stats\n",
    "from numpy.random import seed\n",
    "# seed the random number generator\n",
    "seed(1)\n",
    "\n",
    "from sklearn.model_selection import StratifiedKFold\n",
    "from sklearn.linear_model import LogisticRegression\n",
    "from sklearn.feature_selection import SelectKBest, chi2, f_classif, mutual_info_classif\n",
    "from sklearn.model_selection import StratifiedKFold\n",
    "from sklearn.ensemble import RandomForestClassifier\n",
    "from sklearn.preprocessing import StandardScaler\n",
    "from sklearn import svm\n",
    "from sklearn.metrics import *\n",
    "import string\n",
    "from tqdm import tqdm\n",
    "from matplotlib import pyplot as plt\n",
    "%matplotlib inline\n",
    "import warnings\n",
    "warnings.filterwarnings('ignore')\n",
    "\n",
    "from google.colab import drive\n",
    "drive.mount('/content/gdrive')\n",
    "\n",
    "import sys\n",
    "sys.path.append('/content/gdrive/My Drive/ECIR 2021 Reproducibility/Code/code_to_publish')\n",
    "\n",
    "import statistical_tests"
   ]
  },
  {
   "cell_type": "markdown",
   "metadata": {
    "id": "-zNLM6NATJfk"
   },
   "source": [
    "# Defining required functions"
   ]
  },
  {
   "cell_type": "code",
   "execution_count": 31,
   "metadata": {
    "executionInfo": {
     "elapsed": 826,
     "status": "ok",
     "timestamp": 1604114724147,
     "user": {
      "displayName": "Anu Shrestha",
      "photoUrl": "",
      "userId": "15243898305987665146"
     },
     "user_tz": 360
    },
    "id": "yr0PNUdaKRN1"
   },
   "outputs": [],
   "source": [
    "\n",
    "\n",
    "def classify(df_final, final_features, feature_selection, k, clf):    \n",
    "    y = df_final[\"label\"].values\n",
    "\n",
    "    #feature selection\n",
    "    if feature_selection:\n",
    "      if type(final_features)!=list:\n",
    "        final_features = final_features.to_list()\n",
    "      X, selected_features = statistical_tests.stat_sig_test(df_final[final_features+['label']], k)\n",
    "      \n",
    "    else:\n",
    "      X = df_final[final_features].values\n",
    "      selected_features = final_features\n",
    "\n",
    "  \n",
    "    if X.shape[1]==0:\n",
    "      return (0,0,0,)\n",
    "    \n",
    "    skf = StratifiedKFold(n_splits=5, shuffle=True, random_state=123)\n",
    "    precision_list=[]\n",
    "    recall_list=[]\n",
    "    f1_list=[]\n",
    "    accuracy_list=[]\n",
    "    Avg_precision_list=[]\n",
    "    AUROC_list=[]\n",
    "\n",
    "    for tr_ind, tst_ind in skf.split(X,y):\n",
    "        X_train = X[tr_ind]\n",
    "        X_test = X[tst_ind]\n",
    "        y_train = y[tr_ind]\n",
    "        y_test = y[tst_ind]\n",
    "\n",
    "        clf.fit(X_train,y_train)\n",
    "        y_pred = clf.predict(X_test)\n",
    "        try:\n",
    "          proba = clf.predict_proba(X_test)\n",
    "        except:\n",
    "          proba = clf.decision_function(X_test)\n",
    "        # print(\"finish predicting\")\n",
    "\n",
    "        accuracy = accuracy_score(y_pred,y_test)\n",
    "        precision = precision_score(y_test, y_pred)\n",
    "        recall = recall_score(y_test, y_pred)\n",
    "        f1 = f1_score(y_test, y_pred)\n",
    "        accuracy = accuracy_score(y_pred, y_test)\n",
    "        try:\n",
    "          AP = average_precision_score(y_test, proba[:,1])\n",
    "          AUROC = roc_auc_score(y_test, proba[:,1])\n",
    "        except:\n",
    "          AP = average_precision_score(y_test, proba)\n",
    "          AUROC = roc_auc_score(y_test, proba)\n",
    "\n",
    "        precision_list.append(precision)\n",
    "        recall_list.append(recall)\n",
    "        f1_list.append(f1)\n",
    "        accuracy_list.append(accuracy)\n",
    "        Avg_precision_list.append(AP)\n",
    "        AUROC_list.append(AUROC)\n",
    "    \n",
    "    return(\n",
    "          np.round(np.mean(AUROC_list),3),\n",
    "          # np.round(np.mean(f1_list),3),\n",
    "          np.round(np.mean(Avg_precision_list),3),\n",
    "          # np.round(np.mean(accuracy_list),3),\n",
    "         selected_features)"
   ]
  },
  {
   "cell_type": "code",
   "execution_count": 3,
   "metadata": {
    "executionInfo": {
     "elapsed": 1104,
     "status": "ok",
     "timestamp": 1604113329112,
     "user": {
      "displayName": "Anu Shrestha",
      "photoUrl": "",
      "userId": "15243898305987665146"
     },
     "user_tz": 360
    },
    "id": "x6g2vbjeKmpn"
   },
   "outputs": [],
   "source": [
    "def format_df(df,title_or_text):\n",
    "  '''\n",
    "  function to convert label to make it uniform accross the datasets\n",
    "  '''\n",
    "  df.label = df.label.apply(lambda x: 1 if x in [\"fake\",\"Fake\",'1',1] else 0)\n",
    "  new_names = [(i,title_or_text+\"_\"+i) for i in df.iloc[:, 3:].columns.values]\n",
    "  df.rename(columns = dict(new_names), inplace=True)\n",
    "  return df\n",
    "\n",
    "def merge_title_text(df_title, df_text):\n",
    "  '''\n",
    "  Merge all title and text features to form single dataframe\n",
    "  '''\n",
    "  df_final = pd.merge(df_title,df_text, on=[\"news_id\",\"label\"], how='left',suffixes=['', '_y'])\n",
    "  df_final.drop([x for x in df_final if x.endswith('_y')], axis=1, inplace=True)\n",
    "  return df_final\n",
    "\n",
    "\n",
    "def get_features(df_final, title_or_text):\n",
    "  '''\n",
    "  function to get only those features used in paper of Horne and Adali plus emotion features\n",
    "  '''\n",
    "  \n",
    "  features_used_in_paper = ['Analytic','insight','cause','discrep','tentat','certain','differ','affiliation','power','reward','risk','work','leisure',\n",
    "                            'money','relig','Tone','affect','WC','WPS','num_nouns','num_propernouns','num_personalnouns','num_ppssessivenouns',\n",
    "                            'num_whpronoun','num_determinants','num_whdeterminants','num_cnum','num_adverb','num_interjections','num_verb','num_adj',\n",
    "                            'num_vbd','num_vbg','num_vbn','num_vbp','num_vbz','focuspast','focusfuture','i','we','you','shehe','quant','compare','Exclam',\n",
    "                            'negate','swear','netspeak','interrog','count_uppercased','percentage_stopwords','AllPunc','Quote', 'lexical_diversity','wlen',\n",
    "                            'gunning_fog_index','smog_index','flesch_kincaid_grade_level']\n",
    "\n",
    "  features_used_in_paper_ = [title_or_text+'_'+x for x in features_used_in_paper]\n",
    "\n",
    "  emotion_features = [title_or_text+'_'+x for x in ['Anger','Anticipation','Disgust','Fear','Joy', \n",
    "                                                    'Sadness', 'Surprise', 'Trust','neg','pos','posemo','negemo','anx']]\n",
    "\n",
    "  \n",
    "  return features_used_in_paper_+emotion_features \n",
    " \n",
    "\n",
    "def classification_result(df, text, title, feature_selection):\n",
    "  '''\n",
    "  function to automate the classification using multiple classifiers\n",
    "\n",
    "  df: input dataframe\n",
    "  text: news body features to be considered if not empty\n",
    "  title: news title features to be considered if not empty\n",
    "  feature_selection: if True selects statistically significant (pvalue < 0.05) features up to sqrt of training set \n",
    "  '''\n",
    "  drop_features = ['lexicon_count','neu','compound','adverb', 'verb', 'adj', 'Objective','anger','sad']\n",
    "  df.drop(columns=['text_'+x for x in drop_features if 'text_'+x in list(df.columns)], inplace=True)\n",
    "  df.drop(columns=['title_'+x for x in drop_features if 'title_'+x in list(df.columns)], inplace=True)\n",
    "\n",
    "  result = pd.DataFrame()\n",
    "  clfs = [svm.LinearSVC(class_weight='balanced', random_state=0),\n",
    "            LogisticRegression(class_weight=\"balanced\", random_state=0),\n",
    "            RandomForestClassifier(class_weight=\"balanced\", random_state=0)]\n",
    "\n",
    "  i=0\n",
    "  for n in tqdm([int(np.sqrt(df.shape[0]*0.8))]):\n",
    "    for clf in clfs:\n",
    "      if text == [] and title == [] :\n",
    "        text_features = get_features(df, 'text')\n",
    "        result.at[i,\"classifier\"] = str(clf).split(\"(\")[0]\n",
    "        result.at[i,\"features\"] = \"text\"\n",
    "        result.at[i,\"AUROC\"],result.at[i,\"AvgP\"],\\\n",
    "        selected_text_features = classify(df,text_features, feature_selection, n, clf)\n",
    "\n",
    "        title_features = get_features(df, 'title')\n",
    "        result.at[i+1,\"classifier\"] = str(clf).split(\"(\")[0]\n",
    "        result.at[i+1,\"features\"] = \"title\"\n",
    "        result.at[i+1,\"AUROC\"],result.at[i+1,\"AvgP\"],\\\n",
    "        selected_title_features = classify(df,title_features,feature_selection,n, clf)\n",
    "      else:\n",
    "        result.at[i,\"classifier\"] = str(clf).split(\"(\")[0]\n",
    "        result.at[i,\"features\"] = \"text\"\n",
    "        result.at[i,\"AUROC\"],result.at[i,\"AvgP\"],\\\n",
    "        selected_text_features = classify(df,text, feature_selection, n, clf)\n",
    "\n",
    "        result.at[i+1,\"classifier\"] = str(clf).split(\"(\")[0]\n",
    "        result.at[i+1,\"features\"] = \"title\"\n",
    "        result.at[i+1,\"AUROC\"],result.at[i+1,\"AvgP\"],\\\n",
    "        selected_title_features = classify(df,title,feature_selection,n, clf)\n",
    "      i+=2\n",
    "  return result, selected_text_features, selected_title_features\n",
    "\n",
    "def groupwise_features(selected_features, title_or_text, group):\n",
    "  '''\n",
    "  function to get features within each group \n",
    "  '''\n",
    "  complexity_features = ['lexical_diversity','wlen','gunning_fog_index','smog_index','flesch_kincaid_grade_level']\n",
    "\n",
    "  psychology_features = ['Analytic','insight','cause','discrep','tentat','certain','differ','affiliation','power','reward','risk','work','leisure','money','relig',\n",
    "                         'Tone','affect','Anger','Anticipation','Disgust','Fear','Joy','Sadness','Surprise','Trust','neg','pos','posemo','negemo','anx']\n",
    "\n",
    "  stylistic_features = ['WC','WPS','num_nouns','num_propernouns','num_personalnouns','num_ppssessivenouns','num_whpronoun','num_determinants',\n",
    "                        'num_whdeterminants','num_cnum','num_adverb','num_interjections','num_verb','num_adj','num_vbd','num_vbg','num_vbn','num_vbp','num_vbz',\n",
    "                        'focuspast','focusfuture','i','we','you','shehe','quant','compare','Exclam','negate','swear','netspeak','interrog','count_uppercased',\n",
    "                        'percentage_stopwords','AllPunc','Quote']\n",
    "\n",
    "  selected_features_= [x for x in selected_features]\n",
    "  if group == 'complexity':\n",
    "    return [x for x in selected_features_ if x.strip(title_or_text+'_') in complexity_features]\n",
    "  elif group == 'stylistic':\n",
    "    return [x for x in selected_features_ if x.strip(title_or_text+'_') in stylistic_features]\n",
    "  elif group == 'psychology':\n",
    "    return [x for x in selected_features_ if x.strip(title_or_text+'_') in psychology_features]\n"
   ]
  },
  {
   "cell_type": "markdown",
   "metadata": {
    "id": "whs8l2LcTSvo"
   },
   "source": [
    "# Load data that consists of all the features including Stylistic, Psychology and Complexity features."
   ]
  },
  {
   "cell_type": "code",
   "execution_count": 4,
   "metadata": {
    "executionInfo": {
     "elapsed": 1438,
     "status": "ok",
     "timestamp": 1604113329452,
     "user": {
      "displayName": "Anu Shrestha",
      "photoUrl": "",
      "userId": "15243898305987665146"
     },
     "user_tz": 360
    },
    "id": "oS4I0VY3M_Hr"
   },
   "outputs": [],
   "source": [
    "df_title_gossipcop = pd.read_pickle(\"/content/gdrive/My Drive/ECIR 2021 Reproducibility/Data/Generated_features/all_features_for_title_gossipcop.pkl\")\n",
    "df_title_politifact= pd.read_pickle(\"/content/gdrive/My Drive/ECIR 2021 Reproducibility/Data/Generated_features/all_features_for_title_politifact.pkl\")\n",
    "df_text_gossipcop= pd.read_pickle(\"/content/gdrive/My Drive/ECIR 2021 Reproducibility/Data/Generated_features/all_features_for_text_gossipcop.pkl\")\n",
    "df_text_politifact= pd.read_pickle(\"/content/gdrive/My Drive/ECIR 2021 Reproducibility/Data/Generated_features/all_features_for_text_politifact.pkl\")\n",
    "df_title_buzzfeed= pd.read_pickle(\"/content/gdrive/My Drive/ECIR 2021 Reproducibility/Data/Generated_features/all_features_for_title_buzzfeed.pkl\")\n",
    "df_text_buzzfeed= pd.read_pickle(\"/content/gdrive/My Drive/ECIR 2021 Reproducibility/Data/Generated_features/all_features_for_text_buzzfeed.pkl\")"
   ]
  },
  {
   "cell_type": "markdown",
   "metadata": {
    "id": "c1_6NZPfTjBU"
   },
   "source": [
    "# Format the dataset so that we can add 'title' or 'text' as prefix on the feature names."
   ]
  },
  {
   "cell_type": "code",
   "execution_count": 5,
   "metadata": {
    "executionInfo": {
     "elapsed": 1432,
     "status": "ok",
     "timestamp": 1604113329452,
     "user": {
      "displayName": "Anu Shrestha",
      "photoUrl": "",
      "userId": "15243898305987665146"
     },
     "user_tz": 360
    },
    "id": "-Tx4sffDNLPW"
   },
   "outputs": [],
   "source": [
    "df_title_gossipcop = format_df(df_title_gossipcop, 'title')\n",
    "df_title_politifact = format_df(df_title_politifact, 'title')\n",
    "df_title_buzzfeed = format_df(df_title_buzzfeed, 'title')\n",
    "df_text_buzzfeed = format_df(df_text_buzzfeed, 'text')\n",
    "df_text_gossipcop = format_df(df_text_gossipcop, 'text')\n",
    "df_text_politifact = format_df(df_text_politifact, 'text')"
   ]
  },
  {
   "cell_type": "markdown",
   "metadata": {
    "id": "WXvhGKEcT_4h"
   },
   "source": [
    "# Combine title and text features for each dataset"
   ]
  },
  {
   "cell_type": "code",
   "execution_count": 6,
   "metadata": {
    "executionInfo": {
     "elapsed": 1645,
     "status": "ok",
     "timestamp": 1604113329672,
     "user": {
      "displayName": "Anu Shrestha",
      "photoUrl": "",
      "userId": "15243898305987665146"
     },
     "user_tz": 360
    },
    "id": "HhoJp8erNNi7"
   },
   "outputs": [],
   "source": [
    "df_final_g = merge_title_text(df_title_gossipcop, df_text_gossipcop)\n",
    "df_final_p = merge_title_text(df_title_politifact, df_text_politifact)\n",
    "df_final_b = merge_title_text(df_title_buzzfeed, df_text_buzzfeed)"
   ]
  },
  {
   "cell_type": "markdown",
   "metadata": {
    "id": "x3qXz8DLUHuH"
   },
   "source": [
    "# Run classification for each dataset using all three classifiers namely, linear SVM, Logistic Regression and Random Forest. "
   ]
  },
  {
   "cell_type": "markdown",
   "metadata": {
    "id": "50g2WrQ4oUdC"
   },
   "source": [
    "# Results for PolitiFact"
   ]
  },
  {
   "cell_type": "code",
   "execution_count": 7,
   "metadata": {
    "colab": {
     "base_uri": "https://localhost:8080/"
    },
    "executionInfo": {
     "elapsed": 7296,
     "status": "ok",
     "timestamp": 1604113335331,
     "user": {
      "displayName": "Anu Shrestha",
      "photoUrl": "",
      "userId": "15243898305987665146"
     },
     "user_tz": 360
    },
    "id": "x_IPGIaoNSNc",
    "outputId": "8db846ea-a97c-4b40-c837-16817cf0949e"
   },
   "outputs": [
    {
     "name": "stderr",
     "output_type": "stream",
     "text": [
      "100%|██████████| 1/1 [00:05<00:00,  5.17s/it]\n"
     ]
    }
   ],
   "source": [
    "result_p, selected_text_feat_p, selected_title_feat_p = classification_result(df_final_p,[],[], True)"
   ]
  },
  {
   "cell_type": "code",
   "execution_count": 8,
   "metadata": {
    "colab": {
     "base_uri": "https://localhost:8080/",
     "height": 225
    },
    "executionInfo": {
     "elapsed": 7285,
     "status": "ok",
     "timestamp": 1604113335332,
     "user": {
      "displayName": "Anu Shrestha",
      "photoUrl": "",
      "userId": "15243898305987665146"
     },
     "user_tz": 360
    },
    "id": "Xxr8xJIgNcvx",
    "outputId": "c784d7e8-64d8-4d0b-b7a8-ea0db90dff4a"
   },
   "outputs": [
    {
     "data": {
      "text/html": [
       "<div>\n",
       "<style scoped>\n",
       "    .dataframe tbody tr th:only-of-type {\n",
       "        vertical-align: middle;\n",
       "    }\n",
       "\n",
       "    .dataframe tbody tr th {\n",
       "        vertical-align: top;\n",
       "    }\n",
       "\n",
       "    .dataframe thead th {\n",
       "        text-align: right;\n",
       "    }\n",
       "</style>\n",
       "<table border=\"1\" class=\"dataframe\">\n",
       "  <thead>\n",
       "    <tr style=\"text-align: right;\">\n",
       "      <th></th>\n",
       "      <th>classifier</th>\n",
       "      <th>features</th>\n",
       "      <th>AUROC</th>\n",
       "      <th>AvgP</th>\n",
       "    </tr>\n",
       "  </thead>\n",
       "  <tbody>\n",
       "    <tr>\n",
       "      <th>0</th>\n",
       "      <td>LinearSVC</td>\n",
       "      <td>text</td>\n",
       "      <td>0.583</td>\n",
       "      <td>0.466</td>\n",
       "    </tr>\n",
       "    <tr>\n",
       "      <th>1</th>\n",
       "      <td>LinearSVC</td>\n",
       "      <td>title</td>\n",
       "      <td>0.833</td>\n",
       "      <td>0.804</td>\n",
       "    </tr>\n",
       "    <tr>\n",
       "      <th>2</th>\n",
       "      <td>LogisticRegression</td>\n",
       "      <td>text</td>\n",
       "      <td>0.855</td>\n",
       "      <td>0.809</td>\n",
       "    </tr>\n",
       "    <tr>\n",
       "      <th>3</th>\n",
       "      <td>LogisticRegression</td>\n",
       "      <td>title</td>\n",
       "      <td>0.849</td>\n",
       "      <td>0.813</td>\n",
       "    </tr>\n",
       "    <tr>\n",
       "      <th>4</th>\n",
       "      <td>RandomForestClassifier</td>\n",
       "      <td>text</td>\n",
       "      <td>0.911</td>\n",
       "      <td>0.878</td>\n",
       "    </tr>\n",
       "    <tr>\n",
       "      <th>5</th>\n",
       "      <td>RandomForestClassifier</td>\n",
       "      <td>title</td>\n",
       "      <td>0.867</td>\n",
       "      <td>0.823</td>\n",
       "    </tr>\n",
       "  </tbody>\n",
       "</table>\n",
       "</div>"
      ],
      "text/plain": [
       "               classifier features  AUROC   AvgP\n",
       "0               LinearSVC     text  0.583  0.466\n",
       "1               LinearSVC    title  0.833  0.804\n",
       "2      LogisticRegression     text  0.855  0.809\n",
       "3      LogisticRegression    title  0.849  0.813\n",
       "4  RandomForestClassifier     text  0.911  0.878\n",
       "5  RandomForestClassifier    title  0.867  0.823"
      ]
     },
     "execution_count": 8,
     "metadata": {
      "tags": []
     },
     "output_type": "execute_result"
    }
   ],
   "source": [
    "result_p"
   ]
  },
  {
   "cell_type": "markdown",
   "metadata": {
    "id": "WD2056M9obH2"
   },
   "source": [
    "# Results for BuzzFeed"
   ]
  },
  {
   "cell_type": "code",
   "execution_count": 9,
   "metadata": {
    "colab": {
     "base_uri": "https://localhost:8080/"
    },
    "executionInfo": {
     "elapsed": 14487,
     "status": "ok",
     "timestamp": 1604113342543,
     "user": {
      "displayName": "Anu Shrestha",
      "photoUrl": "",
      "userId": "15243898305987665146"
     },
     "user_tz": 360
    },
    "id": "D9x3wm7AO8co",
    "outputId": "dd02d8f5-7c03-418d-c3dd-d58b2ec7c3c9"
   },
   "outputs": [
    {
     "name": "stderr",
     "output_type": "stream",
     "text": [
      "100%|██████████| 1/1 [00:07<00:00,  7.49s/it]\n"
     ]
    }
   ],
   "source": [
    "result_b, selected_text_feat_b, selected_title_feat_b = classification_result(df_final_b,[],[], True)"
   ]
  },
  {
   "cell_type": "code",
   "execution_count": 10,
   "metadata": {
    "colab": {
     "base_uri": "https://localhost:8080/",
     "height": 225
    },
    "executionInfo": {
     "elapsed": 14477,
     "status": "ok",
     "timestamp": 1604113342545,
     "user": {
      "displayName": "Anu Shrestha",
      "photoUrl": "",
      "userId": "15243898305987665146"
     },
     "user_tz": 360
    },
    "id": "hzCnMIhMQPHO",
    "outputId": "2b65fe16-f8e9-40f6-d3b5-bfca8628dec7"
   },
   "outputs": [
    {
     "data": {
      "text/html": [
       "<div>\n",
       "<style scoped>\n",
       "    .dataframe tbody tr th:only-of-type {\n",
       "        vertical-align: middle;\n",
       "    }\n",
       "\n",
       "    .dataframe tbody tr th {\n",
       "        vertical-align: top;\n",
       "    }\n",
       "\n",
       "    .dataframe thead th {\n",
       "        text-align: right;\n",
       "    }\n",
       "</style>\n",
       "<table border=\"1\" class=\"dataframe\">\n",
       "  <thead>\n",
       "    <tr style=\"text-align: right;\">\n",
       "      <th></th>\n",
       "      <th>classifier</th>\n",
       "      <th>features</th>\n",
       "      <th>AUROC</th>\n",
       "      <th>AvgP</th>\n",
       "    </tr>\n",
       "  </thead>\n",
       "  <tbody>\n",
       "    <tr>\n",
       "      <th>0</th>\n",
       "      <td>LinearSVC</td>\n",
       "      <td>text</td>\n",
       "      <td>0.614</td>\n",
       "      <td>0.257</td>\n",
       "    </tr>\n",
       "    <tr>\n",
       "      <th>1</th>\n",
       "      <td>LinearSVC</td>\n",
       "      <td>title</td>\n",
       "      <td>0.669</td>\n",
       "      <td>0.317</td>\n",
       "    </tr>\n",
       "    <tr>\n",
       "      <th>2</th>\n",
       "      <td>LogisticRegression</td>\n",
       "      <td>text</td>\n",
       "      <td>0.728</td>\n",
       "      <td>0.351</td>\n",
       "    </tr>\n",
       "    <tr>\n",
       "      <th>3</th>\n",
       "      <td>LogisticRegression</td>\n",
       "      <td>title</td>\n",
       "      <td>0.787</td>\n",
       "      <td>0.423</td>\n",
       "    </tr>\n",
       "    <tr>\n",
       "      <th>4</th>\n",
       "      <td>RandomForestClassifier</td>\n",
       "      <td>text</td>\n",
       "      <td>0.785</td>\n",
       "      <td>0.417</td>\n",
       "    </tr>\n",
       "    <tr>\n",
       "      <th>5</th>\n",
       "      <td>RandomForestClassifier</td>\n",
       "      <td>title</td>\n",
       "      <td>0.812</td>\n",
       "      <td>0.424</td>\n",
       "    </tr>\n",
       "  </tbody>\n",
       "</table>\n",
       "</div>"
      ],
      "text/plain": [
       "               classifier features  AUROC   AvgP\n",
       "0               LinearSVC     text  0.614  0.257\n",
       "1               LinearSVC    title  0.669  0.317\n",
       "2      LogisticRegression     text  0.728  0.351\n",
       "3      LogisticRegression    title  0.787  0.423\n",
       "4  RandomForestClassifier     text  0.785  0.417\n",
       "5  RandomForestClassifier    title  0.812  0.424"
      ]
     },
     "execution_count": 10,
     "metadata": {
      "tags": []
     },
     "output_type": "execute_result"
    }
   ],
   "source": [
    "result_b"
   ]
  },
  {
   "cell_type": "markdown",
   "metadata": {
    "id": "IQA3TOoxoedO"
   },
   "source": [
    "# Results for Gossipcop"
   ]
  },
  {
   "cell_type": "code",
   "execution_count": 11,
   "metadata": {
    "colab": {
     "base_uri": "https://localhost:8080/"
    },
    "executionInfo": {
     "elapsed": 112441,
     "status": "ok",
     "timestamp": 1604113440518,
     "user": {
      "displayName": "Anu Shrestha",
      "photoUrl": "",
      "userId": "15243898305987665146"
     },
     "user_tz": 360
    },
    "id": "erDJ5nmVO9PQ",
    "outputId": "624d9bfa-0bd6-4cc6-ab28-b5d076361cb6"
   },
   "outputs": [
    {
     "name": "stderr",
     "output_type": "stream",
     "text": [
      "100%|██████████| 1/1 [01:37<00:00, 97.96s/it]\n"
     ]
    }
   ],
   "source": [
    "result_g, selected_text_feat_g, selected_title_feat_g = classification_result(df_final_g,[],[], True)"
   ]
  },
  {
   "cell_type": "code",
   "execution_count": 12,
   "metadata": {
    "colab": {
     "base_uri": "https://localhost:8080/",
     "height": 225
    },
    "executionInfo": {
     "elapsed": 112430,
     "status": "ok",
     "timestamp": 1604113440519,
     "user": {
      "displayName": "Anu Shrestha",
      "photoUrl": "",
      "userId": "15243898305987665146"
     },
     "user_tz": 360
    },
    "id": "nT6BrpVqQVxY",
    "outputId": "cf805a0e-2747-4258-f646-5a1a76e1883a"
   },
   "outputs": [
    {
     "data": {
      "text/html": [
       "<div>\n",
       "<style scoped>\n",
       "    .dataframe tbody tr th:only-of-type {\n",
       "        vertical-align: middle;\n",
       "    }\n",
       "\n",
       "    .dataframe tbody tr th {\n",
       "        vertical-align: top;\n",
       "    }\n",
       "\n",
       "    .dataframe thead th {\n",
       "        text-align: right;\n",
       "    }\n",
       "</style>\n",
       "<table border=\"1\" class=\"dataframe\">\n",
       "  <thead>\n",
       "    <tr style=\"text-align: right;\">\n",
       "      <th></th>\n",
       "      <th>classifier</th>\n",
       "      <th>features</th>\n",
       "      <th>AUROC</th>\n",
       "      <th>AvgP</th>\n",
       "    </tr>\n",
       "  </thead>\n",
       "  <tbody>\n",
       "    <tr>\n",
       "      <th>0</th>\n",
       "      <td>LinearSVC</td>\n",
       "      <td>text</td>\n",
       "      <td>0.623</td>\n",
       "      <td>0.327</td>\n",
       "    </tr>\n",
       "    <tr>\n",
       "      <th>1</th>\n",
       "      <td>LinearSVC</td>\n",
       "      <td>title</td>\n",
       "      <td>0.588</td>\n",
       "      <td>0.309</td>\n",
       "    </tr>\n",
       "    <tr>\n",
       "      <th>2</th>\n",
       "      <td>LogisticRegression</td>\n",
       "      <td>text</td>\n",
       "      <td>0.703</td>\n",
       "      <td>0.437</td>\n",
       "    </tr>\n",
       "    <tr>\n",
       "      <th>3</th>\n",
       "      <td>LogisticRegression</td>\n",
       "      <td>title</td>\n",
       "      <td>0.663</td>\n",
       "      <td>0.380</td>\n",
       "    </tr>\n",
       "    <tr>\n",
       "      <th>4</th>\n",
       "      <td>RandomForestClassifier</td>\n",
       "      <td>text</td>\n",
       "      <td>0.782</td>\n",
       "      <td>0.630</td>\n",
       "    </tr>\n",
       "    <tr>\n",
       "      <th>5</th>\n",
       "      <td>RandomForestClassifier</td>\n",
       "      <td>title</td>\n",
       "      <td>0.715</td>\n",
       "      <td>0.490</td>\n",
       "    </tr>\n",
       "  </tbody>\n",
       "</table>\n",
       "</div>"
      ],
      "text/plain": [
       "               classifier features  AUROC   AvgP\n",
       "0               LinearSVC     text  0.623  0.327\n",
       "1               LinearSVC    title  0.588  0.309\n",
       "2      LogisticRegression     text  0.703  0.437\n",
       "3      LogisticRegression    title  0.663  0.380\n",
       "4  RandomForestClassifier     text  0.782  0.630\n",
       "5  RandomForestClassifier    title  0.715  0.490"
      ]
     },
     "execution_count": 12,
     "metadata": {
      "tags": []
     },
     "output_type": "execute_result"
    }
   ],
   "source": [
    "result_g"
   ]
  },
  {
   "cell_type": "markdown",
   "metadata": {
    "id": "kB6t7TDJU4D4"
   },
   "source": [
    "# Run classification for each group of features.\n",
    "Now we have the result of classification, lets see which group of feature played important role in classification."
   ]
  },
  {
   "cell_type": "markdown",
   "metadata": {
    "id": "GGr0o_xzoKh1"
   },
   "source": [
    "# PolitiFact Stylistic Features Only"
   ]
  },
  {
   "cell_type": "code",
   "execution_count": 13,
   "metadata": {
    "colab": {
     "base_uri": "https://localhost:8080/"
    },
    "executionInfo": {
     "elapsed": 115658,
     "status": "ok",
     "timestamp": 1604113443756,
     "user": {
      "displayName": "Anu Shrestha",
      "photoUrl": "",
      "userId": "15243898305987665146"
     },
     "user_tz": 360
    },
    "id": "wW2-kx3itfxk",
    "outputId": "21a479fb-428a-40ac-95c5-984ddc4711df"
   },
   "outputs": [
    {
     "name": "stderr",
     "output_type": "stream",
     "text": [
      "100%|██████████| 1/1 [00:03<00:00,  3.19s/it]\n"
     ]
    }
   ],
   "source": [
    "result_style, text_style, title_style = classification_result(df_final_p, groupwise_features(selected_text_feat_p, 'text', 'stylistic'), \n",
    "                      groupwise_features(selected_title_feat_p, 'title', 'stylistic'), False)"
   ]
  },
  {
   "cell_type": "code",
   "execution_count": 14,
   "metadata": {
    "colab": {
     "base_uri": "https://localhost:8080/",
     "height": 225
    },
    "executionInfo": {
     "elapsed": 115648,
     "status": "ok",
     "timestamp": 1604113443757,
     "user": {
      "displayName": "Anu Shrestha",
      "photoUrl": "",
      "userId": "15243898305987665146"
     },
     "user_tz": 360
    },
    "id": "7lz4YWeKSg5G",
    "outputId": "0b1280bc-2049-4a36-cb10-b18920d5ee72"
   },
   "outputs": [
    {
     "data": {
      "text/html": [
       "<div>\n",
       "<style scoped>\n",
       "    .dataframe tbody tr th:only-of-type {\n",
       "        vertical-align: middle;\n",
       "    }\n",
       "\n",
       "    .dataframe tbody tr th {\n",
       "        vertical-align: top;\n",
       "    }\n",
       "\n",
       "    .dataframe thead th {\n",
       "        text-align: right;\n",
       "    }\n",
       "</style>\n",
       "<table border=\"1\" class=\"dataframe\">\n",
       "  <thead>\n",
       "    <tr style=\"text-align: right;\">\n",
       "      <th></th>\n",
       "      <th>classifier</th>\n",
       "      <th>features</th>\n",
       "      <th>AUROC</th>\n",
       "      <th>AvgP</th>\n",
       "    </tr>\n",
       "  </thead>\n",
       "  <tbody>\n",
       "    <tr>\n",
       "      <th>0</th>\n",
       "      <td>LinearSVC</td>\n",
       "      <td>text</td>\n",
       "      <td>0.634</td>\n",
       "      <td>0.519</td>\n",
       "    </tr>\n",
       "    <tr>\n",
       "      <th>1</th>\n",
       "      <td>LinearSVC</td>\n",
       "      <td>title</td>\n",
       "      <td>0.810</td>\n",
       "      <td>0.785</td>\n",
       "    </tr>\n",
       "    <tr>\n",
       "      <th>2</th>\n",
       "      <td>LogisticRegression</td>\n",
       "      <td>text</td>\n",
       "      <td>0.803</td>\n",
       "      <td>0.739</td>\n",
       "    </tr>\n",
       "    <tr>\n",
       "      <th>3</th>\n",
       "      <td>LogisticRegression</td>\n",
       "      <td>title</td>\n",
       "      <td>0.823</td>\n",
       "      <td>0.790</td>\n",
       "    </tr>\n",
       "    <tr>\n",
       "      <th>4</th>\n",
       "      <td>RandomForestClassifier</td>\n",
       "      <td>text</td>\n",
       "      <td>0.882</td>\n",
       "      <td>0.838</td>\n",
       "    </tr>\n",
       "    <tr>\n",
       "      <th>5</th>\n",
       "      <td>RandomForestClassifier</td>\n",
       "      <td>title</td>\n",
       "      <td>0.819</td>\n",
       "      <td>0.729</td>\n",
       "    </tr>\n",
       "  </tbody>\n",
       "</table>\n",
       "</div>"
      ],
      "text/plain": [
       "               classifier features  AUROC   AvgP\n",
       "0               LinearSVC     text  0.634  0.519\n",
       "1               LinearSVC    title  0.810  0.785\n",
       "2      LogisticRegression     text  0.803  0.739\n",
       "3      LogisticRegression    title  0.823  0.790\n",
       "4  RandomForestClassifier     text  0.882  0.838\n",
       "5  RandomForestClassifier    title  0.819  0.729"
      ]
     },
     "execution_count": 14,
     "metadata": {
      "tags": []
     },
     "output_type": "execute_result"
    }
   ],
   "source": [
    "result_style"
   ]
  },
  {
   "cell_type": "markdown",
   "metadata": {
    "id": "sqzROAmwokz4"
   },
   "source": [
    "# PolitiFact Psychology Features Only"
   ]
  },
  {
   "cell_type": "code",
   "execution_count": 15,
   "metadata": {
    "colab": {
     "base_uri": "https://localhost:8080/"
    },
    "executionInfo": {
     "elapsed": 118290,
     "status": "ok",
     "timestamp": 1604113446409,
     "user": {
      "displayName": "Anu Shrestha",
      "photoUrl": "",
      "userId": "15243898305987665146"
     },
     "user_tz": 360
    },
    "id": "KUg0bqLguHY4",
    "outputId": "4ed13299-a7ab-4384-9e61-95c1cc360e04"
   },
   "outputs": [
    {
     "name": "stderr",
     "output_type": "stream",
     "text": [
      "100%|██████████| 1/1 [00:02<00:00,  2.53s/it]\n"
     ]
    }
   ],
   "source": [
    "result_psych, text_psych, title_psych = classification_result(df_final_p, groupwise_features(selected_text_feat_p, 'text', 'psychology'), \n",
    "                      groupwise_features(selected_title_feat_p, 'title', 'psychology'), False)"
   ]
  },
  {
   "cell_type": "code",
   "execution_count": 16,
   "metadata": {
    "colab": {
     "base_uri": "https://localhost:8080/",
     "height": 225
    },
    "executionInfo": {
     "elapsed": 118278,
     "status": "ok",
     "timestamp": 1604113446410,
     "user": {
      "displayName": "Anu Shrestha",
      "photoUrl": "",
      "userId": "15243898305987665146"
     },
     "user_tz": 360
    },
    "id": "hgVaeiEsSyKS",
    "outputId": "9d26297e-3937-4c2a-a0b6-206f2ed7a111"
   },
   "outputs": [
    {
     "data": {
      "text/html": [
       "<div>\n",
       "<style scoped>\n",
       "    .dataframe tbody tr th:only-of-type {\n",
       "        vertical-align: middle;\n",
       "    }\n",
       "\n",
       "    .dataframe tbody tr th {\n",
       "        vertical-align: top;\n",
       "    }\n",
       "\n",
       "    .dataframe thead th {\n",
       "        text-align: right;\n",
       "    }\n",
       "</style>\n",
       "<table border=\"1\" class=\"dataframe\">\n",
       "  <thead>\n",
       "    <tr style=\"text-align: right;\">\n",
       "      <th></th>\n",
       "      <th>classifier</th>\n",
       "      <th>features</th>\n",
       "      <th>AUROC</th>\n",
       "      <th>AvgP</th>\n",
       "    </tr>\n",
       "  </thead>\n",
       "  <tbody>\n",
       "    <tr>\n",
       "      <th>0</th>\n",
       "      <td>LinearSVC</td>\n",
       "      <td>text</td>\n",
       "      <td>0.693</td>\n",
       "      <td>0.643</td>\n",
       "    </tr>\n",
       "    <tr>\n",
       "      <th>1</th>\n",
       "      <td>LinearSVC</td>\n",
       "      <td>title</td>\n",
       "      <td>0.778</td>\n",
       "      <td>0.695</td>\n",
       "    </tr>\n",
       "    <tr>\n",
       "      <th>2</th>\n",
       "      <td>LogisticRegression</td>\n",
       "      <td>text</td>\n",
       "      <td>0.668</td>\n",
       "      <td>0.622</td>\n",
       "    </tr>\n",
       "    <tr>\n",
       "      <th>3</th>\n",
       "      <td>LogisticRegression</td>\n",
       "      <td>title</td>\n",
       "      <td>0.761</td>\n",
       "      <td>0.675</td>\n",
       "    </tr>\n",
       "    <tr>\n",
       "      <th>4</th>\n",
       "      <td>RandomForestClassifier</td>\n",
       "      <td>text</td>\n",
       "      <td>0.723</td>\n",
       "      <td>0.662</td>\n",
       "    </tr>\n",
       "    <tr>\n",
       "      <th>5</th>\n",
       "      <td>RandomForestClassifier</td>\n",
       "      <td>title</td>\n",
       "      <td>0.791</td>\n",
       "      <td>0.691</td>\n",
       "    </tr>\n",
       "  </tbody>\n",
       "</table>\n",
       "</div>"
      ],
      "text/plain": [
       "               classifier features  AUROC   AvgP\n",
       "0               LinearSVC     text  0.693  0.643\n",
       "1               LinearSVC    title  0.778  0.695\n",
       "2      LogisticRegression     text  0.668  0.622\n",
       "3      LogisticRegression    title  0.761  0.675\n",
       "4  RandomForestClassifier     text  0.723  0.662\n",
       "5  RandomForestClassifier    title  0.791  0.691"
      ]
     },
     "execution_count": 16,
     "metadata": {
      "tags": []
     },
     "output_type": "execute_result"
    }
   ],
   "source": [
    "result_psych"
   ]
  },
  {
   "cell_type": "markdown",
   "metadata": {
    "id": "dRPcYRe4opk5"
   },
   "source": [
    "# PolitiFact Complexity Features Only"
   ]
  },
  {
   "cell_type": "code",
   "execution_count": 17,
   "metadata": {
    "colab": {
     "base_uri": "https://localhost:8080/"
    },
    "executionInfo": {
     "elapsed": 120216,
     "status": "ok",
     "timestamp": 1604113448357,
     "user": {
      "displayName": "Anu Shrestha",
      "photoUrl": "",
      "userId": "15243898305987665146"
     },
     "user_tz": 360
    },
    "id": "EUbASEm_kAPB",
    "outputId": "dcf1533c-b1cb-4f21-9352-6a0438993c52"
   },
   "outputs": [
    {
     "name": "stderr",
     "output_type": "stream",
     "text": [
      "100%|██████████| 1/1 [00:02<00:00,  2.02s/it]\n"
     ]
    }
   ],
   "source": [
    "result_comp, text_comp, title_comp = classification_result(df_final_p, groupwise_features(selected_text_feat_p, 'text', 'complexity'), \n",
    "                      groupwise_features(selected_title_feat_p, 'title', 'complexity'), False)"
   ]
  },
  {
   "cell_type": "code",
   "execution_count": 18,
   "metadata": {
    "colab": {
     "base_uri": "https://localhost:8080/",
     "height": 225
    },
    "executionInfo": {
     "elapsed": 120208,
     "status": "ok",
     "timestamp": 1604113448360,
     "user": {
      "displayName": "Anu Shrestha",
      "photoUrl": "",
      "userId": "15243898305987665146"
     },
     "user_tz": 360
    },
    "id": "7L7Ua3dkTCu4",
    "outputId": "2527e4fe-e13a-4d52-fd21-569597a835c1"
   },
   "outputs": [
    {
     "data": {
      "text/html": [
       "<div>\n",
       "<style scoped>\n",
       "    .dataframe tbody tr th:only-of-type {\n",
       "        vertical-align: middle;\n",
       "    }\n",
       "\n",
       "    .dataframe tbody tr th {\n",
       "        vertical-align: top;\n",
       "    }\n",
       "\n",
       "    .dataframe thead th {\n",
       "        text-align: right;\n",
       "    }\n",
       "</style>\n",
       "<table border=\"1\" class=\"dataframe\">\n",
       "  <thead>\n",
       "    <tr style=\"text-align: right;\">\n",
       "      <th></th>\n",
       "      <th>classifier</th>\n",
       "      <th>features</th>\n",
       "      <th>AUROC</th>\n",
       "      <th>AvgP</th>\n",
       "    </tr>\n",
       "  </thead>\n",
       "  <tbody>\n",
       "    <tr>\n",
       "      <th>0</th>\n",
       "      <td>LinearSVC</td>\n",
       "      <td>text</td>\n",
       "      <td>0.620</td>\n",
       "      <td>0.493</td>\n",
       "    </tr>\n",
       "    <tr>\n",
       "      <th>1</th>\n",
       "      <td>LinearSVC</td>\n",
       "      <td>title</td>\n",
       "      <td>0.588</td>\n",
       "      <td>0.505</td>\n",
       "    </tr>\n",
       "    <tr>\n",
       "      <th>2</th>\n",
       "      <td>LogisticRegression</td>\n",
       "      <td>text</td>\n",
       "      <td>0.620</td>\n",
       "      <td>0.493</td>\n",
       "    </tr>\n",
       "    <tr>\n",
       "      <th>3</th>\n",
       "      <td>LogisticRegression</td>\n",
       "      <td>title</td>\n",
       "      <td>0.588</td>\n",
       "      <td>0.505</td>\n",
       "    </tr>\n",
       "    <tr>\n",
       "      <th>4</th>\n",
       "      <td>RandomForestClassifier</td>\n",
       "      <td>text</td>\n",
       "      <td>0.804</td>\n",
       "      <td>0.708</td>\n",
       "    </tr>\n",
       "    <tr>\n",
       "      <th>5</th>\n",
       "      <td>RandomForestClassifier</td>\n",
       "      <td>title</td>\n",
       "      <td>0.583</td>\n",
       "      <td>0.486</td>\n",
       "    </tr>\n",
       "  </tbody>\n",
       "</table>\n",
       "</div>"
      ],
      "text/plain": [
       "               classifier features  AUROC   AvgP\n",
       "0               LinearSVC     text  0.620  0.493\n",
       "1               LinearSVC    title  0.588  0.505\n",
       "2      LogisticRegression     text  0.620  0.493\n",
       "3      LogisticRegression    title  0.588  0.505\n",
       "4  RandomForestClassifier     text  0.804  0.708\n",
       "5  RandomForestClassifier    title  0.583  0.486"
      ]
     },
     "execution_count": 18,
     "metadata": {
      "tags": []
     },
     "output_type": "execute_result"
    }
   ],
   "source": [
    "result_comp"
   ]
  },
  {
   "cell_type": "code",
   "execution_count": 19,
   "metadata": {
    "executionInfo": {
     "elapsed": 562,
     "status": "ok",
     "timestamp": 1604113898481,
     "user": {
      "displayName": "Anu Shrestha",
      "photoUrl": "",
      "userId": "15243898305987665146"
     },
     "user_tz": 360
    },
    "id": "tHt0n7pyo5MK"
   },
   "outputs": [],
   "source": []
  },
  {
   "cell_type": "markdown",
   "metadata": {
    "id": "4Aha9GGbo6EQ"
   },
   "source": [
    "# BuzzFeed Stylistic Features Only"
   ]
  },
  {
   "cell_type": "code",
   "execution_count": 20,
   "metadata": {
    "colab": {
     "base_uri": "https://localhost:8080/"
    },
    "executionInfo": {
     "elapsed": 5042,
     "status": "ok",
     "timestamp": 1604113933504,
     "user": {
      "displayName": "Anu Shrestha",
      "photoUrl": "",
      "userId": "15243898305987665146"
     },
     "user_tz": 360
    },
    "id": "KccvPe_4o6ER",
    "outputId": "b4e617fb-8d04-41b2-e305-60ac904736b6"
   },
   "outputs": [
    {
     "name": "stderr",
     "output_type": "stream",
     "text": [
      "100%|██████████| 1/1 [00:04<00:00,  4.46s/it]\n"
     ]
    }
   ],
   "source": [
    "result_style, text_style, title_style = classification_result(df_final_b, groupwise_features(selected_text_feat_b, 'text', 'stylistic'), \n",
    "                      groupwise_features(selected_title_feat_b, 'title', 'stylistic'), False)"
   ]
  },
  {
   "cell_type": "code",
   "execution_count": 21,
   "metadata": {
    "colab": {
     "base_uri": "https://localhost:8080/",
     "height": 225
    },
    "executionInfo": {
     "elapsed": 1009,
     "status": "ok",
     "timestamp": 1604113949077,
     "user": {
      "displayName": "Anu Shrestha",
      "photoUrl": "",
      "userId": "15243898305987665146"
     },
     "user_tz": 360
    },
    "id": "TCqtu8-zo6EV",
    "outputId": "801d7d37-0aa0-4a55-e67f-a0acc45bc1a5"
   },
   "outputs": [
    {
     "data": {
      "text/html": [
       "<div>\n",
       "<style scoped>\n",
       "    .dataframe tbody tr th:only-of-type {\n",
       "        vertical-align: middle;\n",
       "    }\n",
       "\n",
       "    .dataframe tbody tr th {\n",
       "        vertical-align: top;\n",
       "    }\n",
       "\n",
       "    .dataframe thead th {\n",
       "        text-align: right;\n",
       "    }\n",
       "</style>\n",
       "<table border=\"1\" class=\"dataframe\">\n",
       "  <thead>\n",
       "    <tr style=\"text-align: right;\">\n",
       "      <th></th>\n",
       "      <th>classifier</th>\n",
       "      <th>features</th>\n",
       "      <th>AUROC</th>\n",
       "      <th>AvgP</th>\n",
       "    </tr>\n",
       "  </thead>\n",
       "  <tbody>\n",
       "    <tr>\n",
       "      <th>0</th>\n",
       "      <td>LinearSVC</td>\n",
       "      <td>text</td>\n",
       "      <td>0.566</td>\n",
       "      <td>0.232</td>\n",
       "    </tr>\n",
       "    <tr>\n",
       "      <th>1</th>\n",
       "      <td>LinearSVC</td>\n",
       "      <td>title</td>\n",
       "      <td>0.764</td>\n",
       "      <td>0.412</td>\n",
       "    </tr>\n",
       "    <tr>\n",
       "      <th>2</th>\n",
       "      <td>LogisticRegression</td>\n",
       "      <td>text</td>\n",
       "      <td>0.661</td>\n",
       "      <td>0.315</td>\n",
       "    </tr>\n",
       "    <tr>\n",
       "      <th>3</th>\n",
       "      <td>LogisticRegression</td>\n",
       "      <td>title</td>\n",
       "      <td>0.772</td>\n",
       "      <td>0.423</td>\n",
       "    </tr>\n",
       "    <tr>\n",
       "      <th>4</th>\n",
       "      <td>RandomForestClassifier</td>\n",
       "      <td>text</td>\n",
       "      <td>0.753</td>\n",
       "      <td>0.382</td>\n",
       "    </tr>\n",
       "    <tr>\n",
       "      <th>5</th>\n",
       "      <td>RandomForestClassifier</td>\n",
       "      <td>title</td>\n",
       "      <td>0.805</td>\n",
       "      <td>0.433</td>\n",
       "    </tr>\n",
       "  </tbody>\n",
       "</table>\n",
       "</div>"
      ],
      "text/plain": [
       "               classifier features  AUROC   AvgP\n",
       "0               LinearSVC     text  0.566  0.232\n",
       "1               LinearSVC    title  0.764  0.412\n",
       "2      LogisticRegression     text  0.661  0.315\n",
       "3      LogisticRegression    title  0.772  0.423\n",
       "4  RandomForestClassifier     text  0.753  0.382\n",
       "5  RandomForestClassifier    title  0.805  0.433"
      ]
     },
     "execution_count": 21,
     "metadata": {
      "tags": []
     },
     "output_type": "execute_result"
    }
   ],
   "source": [
    "result_style"
   ]
  },
  {
   "cell_type": "markdown",
   "metadata": {
    "id": "6JdFHG0uo6EX"
   },
   "source": [
    "# BuzFeed Psychology Features Only"
   ]
  },
  {
   "cell_type": "code",
   "execution_count": 22,
   "metadata": {
    "colab": {
     "base_uri": "https://localhost:8080/"
    },
    "executionInfo": {
     "elapsed": 5025,
     "status": "ok",
     "timestamp": 1604114030644,
     "user": {
      "displayName": "Anu Shrestha",
      "photoUrl": "",
      "userId": "15243898305987665146"
     },
     "user_tz": 360
    },
    "id": "vRDzB7e-o6EX",
    "outputId": "ec837c12-29fd-4c5a-c8d7-cd22f1cfe6d9"
   },
   "outputs": [
    {
     "name": "stderr",
     "output_type": "stream",
     "text": [
      "100%|██████████| 1/1 [00:04<00:00,  4.37s/it]\n"
     ]
    }
   ],
   "source": [
    "result_psych, text_psych, title_psych = classification_result(df_final_b, groupwise_features(selected_text_feat_b, 'text', 'psychology'), \n",
    "                      groupwise_features(selected_title_feat_b, 'title', 'psychology'), False)"
   ]
  },
  {
   "cell_type": "code",
   "execution_count": 23,
   "metadata": {
    "colab": {
     "base_uri": "https://localhost:8080/",
     "height": 225
    },
    "executionInfo": {
     "elapsed": 704,
     "status": "ok",
     "timestamp": 1604114035224,
     "user": {
      "displayName": "Anu Shrestha",
      "photoUrl": "",
      "userId": "15243898305987665146"
     },
     "user_tz": 360
    },
    "id": "ymF1bJSzo6Ea",
    "outputId": "46566545-4c1d-4e03-d0c1-49e531c9868f"
   },
   "outputs": [
    {
     "data": {
      "text/html": [
       "<div>\n",
       "<style scoped>\n",
       "    .dataframe tbody tr th:only-of-type {\n",
       "        vertical-align: middle;\n",
       "    }\n",
       "\n",
       "    .dataframe tbody tr th {\n",
       "        vertical-align: top;\n",
       "    }\n",
       "\n",
       "    .dataframe thead th {\n",
       "        text-align: right;\n",
       "    }\n",
       "</style>\n",
       "<table border=\"1\" class=\"dataframe\">\n",
       "  <thead>\n",
       "    <tr style=\"text-align: right;\">\n",
       "      <th></th>\n",
       "      <th>classifier</th>\n",
       "      <th>features</th>\n",
       "      <th>AUROC</th>\n",
       "      <th>AvgP</th>\n",
       "    </tr>\n",
       "  </thead>\n",
       "  <tbody>\n",
       "    <tr>\n",
       "      <th>0</th>\n",
       "      <td>LinearSVC</td>\n",
       "      <td>text</td>\n",
       "      <td>0.621</td>\n",
       "      <td>0.290</td>\n",
       "    </tr>\n",
       "    <tr>\n",
       "      <th>1</th>\n",
       "      <td>LinearSVC</td>\n",
       "      <td>title</td>\n",
       "      <td>0.585</td>\n",
       "      <td>0.268</td>\n",
       "    </tr>\n",
       "    <tr>\n",
       "      <th>2</th>\n",
       "      <td>LogisticRegression</td>\n",
       "      <td>text</td>\n",
       "      <td>0.641</td>\n",
       "      <td>0.318</td>\n",
       "    </tr>\n",
       "    <tr>\n",
       "      <th>3</th>\n",
       "      <td>LogisticRegression</td>\n",
       "      <td>title</td>\n",
       "      <td>0.620</td>\n",
       "      <td>0.280</td>\n",
       "    </tr>\n",
       "    <tr>\n",
       "      <th>4</th>\n",
       "      <td>RandomForestClassifier</td>\n",
       "      <td>text</td>\n",
       "      <td>0.681</td>\n",
       "      <td>0.319</td>\n",
       "    </tr>\n",
       "    <tr>\n",
       "      <th>5</th>\n",
       "      <td>RandomForestClassifier</td>\n",
       "      <td>title</td>\n",
       "      <td>0.645</td>\n",
       "      <td>0.320</td>\n",
       "    </tr>\n",
       "  </tbody>\n",
       "</table>\n",
       "</div>"
      ],
      "text/plain": [
       "               classifier features  AUROC   AvgP\n",
       "0               LinearSVC     text  0.621  0.290\n",
       "1               LinearSVC    title  0.585  0.268\n",
       "2      LogisticRegression     text  0.641  0.318\n",
       "3      LogisticRegression    title  0.620  0.280\n",
       "4  RandomForestClassifier     text  0.681  0.319\n",
       "5  RandomForestClassifier    title  0.645  0.320"
      ]
     },
     "execution_count": 23,
     "metadata": {
      "tags": []
     },
     "output_type": "execute_result"
    }
   ],
   "source": [
    "result_psych"
   ]
  },
  {
   "cell_type": "markdown",
   "metadata": {
    "id": "nrse7etIo6Ec"
   },
   "source": [
    "# BuzzFeed Complexity Features Only"
   ]
  },
  {
   "cell_type": "code",
   "execution_count": 24,
   "metadata": {
    "colab": {
     "base_uri": "https://localhost:8080/"
    },
    "executionInfo": {
     "elapsed": 4244,
     "status": "ok",
     "timestamp": 1604114073708,
     "user": {
      "displayName": "Anu Shrestha",
      "photoUrl": "",
      "userId": "15243898305987665146"
     },
     "user_tz": 360
    },
    "id": "BMX-bwveo6Ec",
    "outputId": "1579c322-fbf6-4513-ab15-1f425795f218"
   },
   "outputs": [
    {
     "name": "stderr",
     "output_type": "stream",
     "text": [
      "100%|██████████| 1/1 [00:03<00:00,  3.21s/it]\n"
     ]
    }
   ],
   "source": [
    "result_comp, text_comp, title_comp = classification_result(df_final_b, groupwise_features(selected_text_feat_b, 'text', 'complexity'), \n",
    "                      groupwise_features(selected_title_feat_b, 'title', 'complexity'), False)"
   ]
  },
  {
   "cell_type": "code",
   "execution_count": 25,
   "metadata": {
    "colab": {
     "base_uri": "https://localhost:8080/",
     "height": 225
    },
    "executionInfo": {
     "elapsed": 664,
     "status": "ok",
     "timestamp": 1604114075286,
     "user": {
      "displayName": "Anu Shrestha",
      "photoUrl": "",
      "userId": "15243898305987665146"
     },
     "user_tz": 360
    },
    "id": "7-_FQojUo6Ef",
    "outputId": "bb32ea4b-e01c-4e2d-8cef-b0d846981527"
   },
   "outputs": [
    {
     "data": {
      "text/html": [
       "<div>\n",
       "<style scoped>\n",
       "    .dataframe tbody tr th:only-of-type {\n",
       "        vertical-align: middle;\n",
       "    }\n",
       "\n",
       "    .dataframe tbody tr th {\n",
       "        vertical-align: top;\n",
       "    }\n",
       "\n",
       "    .dataframe thead th {\n",
       "        text-align: right;\n",
       "    }\n",
       "</style>\n",
       "<table border=\"1\" class=\"dataframe\">\n",
       "  <thead>\n",
       "    <tr style=\"text-align: right;\">\n",
       "      <th></th>\n",
       "      <th>classifier</th>\n",
       "      <th>features</th>\n",
       "      <th>AUROC</th>\n",
       "      <th>AvgP</th>\n",
       "    </tr>\n",
       "  </thead>\n",
       "  <tbody>\n",
       "    <tr>\n",
       "      <th>0</th>\n",
       "      <td>LinearSVC</td>\n",
       "      <td>text</td>\n",
       "      <td>0.598</td>\n",
       "      <td>0.268</td>\n",
       "    </tr>\n",
       "    <tr>\n",
       "      <th>1</th>\n",
       "      <td>LinearSVC</td>\n",
       "      <td>title</td>\n",
       "      <td>0.544</td>\n",
       "      <td>0.239</td>\n",
       "    </tr>\n",
       "    <tr>\n",
       "      <th>2</th>\n",
       "      <td>LogisticRegression</td>\n",
       "      <td>text</td>\n",
       "      <td>0.602</td>\n",
       "      <td>0.261</td>\n",
       "    </tr>\n",
       "    <tr>\n",
       "      <th>3</th>\n",
       "      <td>LogisticRegression</td>\n",
       "      <td>title</td>\n",
       "      <td>0.544</td>\n",
       "      <td>0.239</td>\n",
       "    </tr>\n",
       "    <tr>\n",
       "      <th>4</th>\n",
       "      <td>RandomForestClassifier</td>\n",
       "      <td>text</td>\n",
       "      <td>0.630</td>\n",
       "      <td>0.285</td>\n",
       "    </tr>\n",
       "    <tr>\n",
       "      <th>5</th>\n",
       "      <td>RandomForestClassifier</td>\n",
       "      <td>title</td>\n",
       "      <td>0.555</td>\n",
       "      <td>0.257</td>\n",
       "    </tr>\n",
       "  </tbody>\n",
       "</table>\n",
       "</div>"
      ],
      "text/plain": [
       "               classifier features  AUROC   AvgP\n",
       "0               LinearSVC     text  0.598  0.268\n",
       "1               LinearSVC    title  0.544  0.239\n",
       "2      LogisticRegression     text  0.602  0.261\n",
       "3      LogisticRegression    title  0.544  0.239\n",
       "4  RandomForestClassifier     text  0.630  0.285\n",
       "5  RandomForestClassifier    title  0.555  0.257"
      ]
     },
     "execution_count": 25,
     "metadata": {
      "tags": []
     },
     "output_type": "execute_result"
    }
   ],
   "source": [
    "result_comp"
   ]
  },
  {
   "cell_type": "code",
   "execution_count": 25,
   "metadata": {
    "executionInfo": {
     "elapsed": 535,
     "status": "ok",
     "timestamp": 1604114086212,
     "user": {
      "displayName": "Anu Shrestha",
      "photoUrl": "",
      "userId": "15243898305987665146"
     },
     "user_tz": 360
    },
    "id": "niXgAxDapnFz"
   },
   "outputs": [],
   "source": []
  },
  {
   "cell_type": "markdown",
   "metadata": {
    "id": "4eaoYo3Spnpg"
   },
   "source": [
    "# GossipCop Stylistic Features Only"
   ]
  },
  {
   "cell_type": "code",
   "execution_count": 26,
   "metadata": {
    "colab": {
     "base_uri": "https://localhost:8080/"
    },
    "executionInfo": {
     "elapsed": 51023,
     "status": "ok",
     "timestamp": 1604114169369,
     "user": {
      "displayName": "Anu Shrestha",
      "photoUrl": "",
      "userId": "15243898305987665146"
     },
     "user_tz": 360
    },
    "id": "tid4WVj4pnpg",
    "outputId": "d94c4e50-85a9-48bf-dd17-f012c4ded5e1"
   },
   "outputs": [
    {
     "name": "stderr",
     "output_type": "stream",
     "text": [
      "100%|██████████| 1/1 [00:50<00:00, 50.38s/it]\n"
     ]
    }
   ],
   "source": [
    "result_style, text_style, title_style = classification_result(df_final_g, groupwise_features(selected_text_feat_g, 'text', 'stylistic'), \n",
    "                      groupwise_features(selected_title_feat_g, 'title', 'stylistic'), False)"
   ]
  },
  {
   "cell_type": "code",
   "execution_count": 27,
   "metadata": {
    "colab": {
     "base_uri": "https://localhost:8080/",
     "height": 225
    },
    "executionInfo": {
     "elapsed": 48878,
     "status": "ok",
     "timestamp": 1604114169370,
     "user": {
      "displayName": "Anu Shrestha",
      "photoUrl": "",
      "userId": "15243898305987665146"
     },
     "user_tz": 360
    },
    "id": "KPxulks9pnpj",
    "outputId": "2e425865-f0b2-4082-dd54-0bbb0b686731"
   },
   "outputs": [
    {
     "data": {
      "text/html": [
       "<div>\n",
       "<style scoped>\n",
       "    .dataframe tbody tr th:only-of-type {\n",
       "        vertical-align: middle;\n",
       "    }\n",
       "\n",
       "    .dataframe tbody tr th {\n",
       "        vertical-align: top;\n",
       "    }\n",
       "\n",
       "    .dataframe thead th {\n",
       "        text-align: right;\n",
       "    }\n",
       "</style>\n",
       "<table border=\"1\" class=\"dataframe\">\n",
       "  <thead>\n",
       "    <tr style=\"text-align: right;\">\n",
       "      <th></th>\n",
       "      <th>classifier</th>\n",
       "      <th>features</th>\n",
       "      <th>AUROC</th>\n",
       "      <th>AvgP</th>\n",
       "    </tr>\n",
       "  </thead>\n",
       "  <tbody>\n",
       "    <tr>\n",
       "      <th>0</th>\n",
       "      <td>LinearSVC</td>\n",
       "      <td>text</td>\n",
       "      <td>0.581</td>\n",
       "      <td>0.283</td>\n",
       "    </tr>\n",
       "    <tr>\n",
       "      <th>1</th>\n",
       "      <td>LinearSVC</td>\n",
       "      <td>title</td>\n",
       "      <td>0.581</td>\n",
       "      <td>0.296</td>\n",
       "    </tr>\n",
       "    <tr>\n",
       "      <th>2</th>\n",
       "      <td>LogisticRegression</td>\n",
       "      <td>text</td>\n",
       "      <td>0.652</td>\n",
       "      <td>0.355</td>\n",
       "    </tr>\n",
       "    <tr>\n",
       "      <th>3</th>\n",
       "      <td>LogisticRegression</td>\n",
       "      <td>title</td>\n",
       "      <td>0.628</td>\n",
       "      <td>0.343</td>\n",
       "    </tr>\n",
       "    <tr>\n",
       "      <th>4</th>\n",
       "      <td>RandomForestClassifier</td>\n",
       "      <td>text</td>\n",
       "      <td>0.752</td>\n",
       "      <td>0.590</td>\n",
       "    </tr>\n",
       "    <tr>\n",
       "      <th>5</th>\n",
       "      <td>RandomForestClassifier</td>\n",
       "      <td>title</td>\n",
       "      <td>0.634</td>\n",
       "      <td>0.365</td>\n",
       "    </tr>\n",
       "  </tbody>\n",
       "</table>\n",
       "</div>"
      ],
      "text/plain": [
       "               classifier features  AUROC   AvgP\n",
       "0               LinearSVC     text  0.581  0.283\n",
       "1               LinearSVC    title  0.581  0.296\n",
       "2      LogisticRegression     text  0.652  0.355\n",
       "3      LogisticRegression    title  0.628  0.343\n",
       "4  RandomForestClassifier     text  0.752  0.590\n",
       "5  RandomForestClassifier    title  0.634  0.365"
      ]
     },
     "execution_count": 27,
     "metadata": {
      "tags": []
     },
     "output_type": "execute_result"
    }
   ],
   "source": [
    "result_style"
   ]
  },
  {
   "cell_type": "markdown",
   "metadata": {
    "id": "DtA0LpFvpnpn"
   },
   "source": [
    "# GossipCop Psychology Features Only"
   ]
  },
  {
   "cell_type": "code",
   "execution_count": 28,
   "metadata": {
    "colab": {
     "base_uri": "https://localhost:8080/"
    },
    "executionInfo": {
     "elapsed": 62291,
     "status": "ok",
     "timestamp": 1604114231685,
     "user": {
      "displayName": "Anu Shrestha",
      "photoUrl": "",
      "userId": "15243898305987665146"
     },
     "user_tz": 360
    },
    "id": "R034FGltpnpo",
    "outputId": "eea3136c-ae87-4e5e-8e4e-136f4722d930"
   },
   "outputs": [
    {
     "name": "stderr",
     "output_type": "stream",
     "text": [
      "100%|██████████| 1/1 [01:01<00:00, 61.38s/it]\n"
     ]
    }
   ],
   "source": [
    "result_psych, text_psych, title_psych = classification_result(df_final_g, groupwise_features(selected_text_feat_g, 'text', 'psychology'), \n",
    "                      groupwise_features(selected_title_feat_g, 'title', 'psychology'), False)"
   ]
  },
  {
   "cell_type": "code",
   "execution_count": 29,
   "metadata": {
    "colab": {
     "base_uri": "https://localhost:8080/",
     "height": 225
    },
    "executionInfo": {
     "elapsed": 62281,
     "status": "ok",
     "timestamp": 1604114231687,
     "user": {
      "displayName": "Anu Shrestha",
      "photoUrl": "",
      "userId": "15243898305987665146"
     },
     "user_tz": 360
    },
    "id": "jY0XvXkepnpq",
    "outputId": "61c031d4-6a80-4cf8-b796-b35162dc66bb"
   },
   "outputs": [
    {
     "data": {
      "text/html": [
       "<div>\n",
       "<style scoped>\n",
       "    .dataframe tbody tr th:only-of-type {\n",
       "        vertical-align: middle;\n",
       "    }\n",
       "\n",
       "    .dataframe tbody tr th {\n",
       "        vertical-align: top;\n",
       "    }\n",
       "\n",
       "    .dataframe thead th {\n",
       "        text-align: right;\n",
       "    }\n",
       "</style>\n",
       "<table border=\"1\" class=\"dataframe\">\n",
       "  <thead>\n",
       "    <tr style=\"text-align: right;\">\n",
       "      <th></th>\n",
       "      <th>classifier</th>\n",
       "      <th>features</th>\n",
       "      <th>AUROC</th>\n",
       "      <th>AvgP</th>\n",
       "    </tr>\n",
       "  </thead>\n",
       "  <tbody>\n",
       "    <tr>\n",
       "      <th>0</th>\n",
       "      <td>LinearSVC</td>\n",
       "      <td>text</td>\n",
       "      <td>0.620</td>\n",
       "      <td>0.328</td>\n",
       "    </tr>\n",
       "    <tr>\n",
       "      <th>1</th>\n",
       "      <td>LinearSVC</td>\n",
       "      <td>title</td>\n",
       "      <td>0.566</td>\n",
       "      <td>0.286</td>\n",
       "    </tr>\n",
       "    <tr>\n",
       "      <th>2</th>\n",
       "      <td>LogisticRegression</td>\n",
       "      <td>text</td>\n",
       "      <td>0.645</td>\n",
       "      <td>0.357</td>\n",
       "    </tr>\n",
       "    <tr>\n",
       "      <th>3</th>\n",
       "      <td>LogisticRegression</td>\n",
       "      <td>title</td>\n",
       "      <td>0.613</td>\n",
       "      <td>0.328</td>\n",
       "    </tr>\n",
       "    <tr>\n",
       "      <th>4</th>\n",
       "      <td>RandomForestClassifier</td>\n",
       "      <td>text</td>\n",
       "      <td>0.713</td>\n",
       "      <td>0.509</td>\n",
       "    </tr>\n",
       "    <tr>\n",
       "      <th>5</th>\n",
       "      <td>RandomForestClassifier</td>\n",
       "      <td>title</td>\n",
       "      <td>0.651</td>\n",
       "      <td>0.407</td>\n",
       "    </tr>\n",
       "  </tbody>\n",
       "</table>\n",
       "</div>"
      ],
      "text/plain": [
       "               classifier features  AUROC   AvgP\n",
       "0               LinearSVC     text  0.620  0.328\n",
       "1               LinearSVC    title  0.566  0.286\n",
       "2      LogisticRegression     text  0.645  0.357\n",
       "3      LogisticRegression    title  0.613  0.328\n",
       "4  RandomForestClassifier     text  0.713  0.509\n",
       "5  RandomForestClassifier    title  0.651  0.407"
      ]
     },
     "execution_count": 29,
     "metadata": {
      "tags": []
     },
     "output_type": "execute_result"
    }
   ],
   "source": [
    "result_psych"
   ]
  },
  {
   "cell_type": "markdown",
   "metadata": {
    "id": "5mRF2e82pnpt"
   },
   "source": [
    "# GossipCop Complexity Features Only"
   ]
  },
  {
   "cell_type": "code",
   "execution_count": 32,
   "metadata": {
    "colab": {
     "base_uri": "https://localhost:8080/"
    },
    "executionInfo": {
     "elapsed": 12851,
     "status": "ok",
     "timestamp": 1604114744731,
     "user": {
      "displayName": "Anu Shrestha",
      "photoUrl": "",
      "userId": "15243898305987665146"
     },
     "user_tz": 360
    },
    "id": "9VV-Cq5upnpu",
    "outputId": "b00cbe36-73ea-46ce-eb52-8aa893e109c8"
   },
   "outputs": [
    {
     "name": "stderr",
     "output_type": "stream",
     "text": [
      "100%|██████████| 1/1 [00:12<00:00, 12.13s/it]\n"
     ]
    }
   ],
   "source": [
    "result_comp, text_comp, title_comp = classification_result(df_final_g, groupwise_features(selected_text_feat_g, 'text', 'complexity'), \n",
    "                      groupwise_features(selected_title_feat_g, 'title', 'complexity'), False)"
   ]
  },
  {
   "cell_type": "code",
   "execution_count": 33,
   "metadata": {
    "colab": {
     "base_uri": "https://localhost:8080/",
     "height": 225
    },
    "executionInfo": {
     "elapsed": 2104,
     "status": "ok",
     "timestamp": 1604114749337,
     "user": {
      "displayName": "Anu Shrestha",
      "photoUrl": "",
      "userId": "15243898305987665146"
     },
     "user_tz": 360
    },
    "id": "AJTyFV0Epnpy",
    "outputId": "a539bfef-c2f0-4da7-9285-76c93a0dcb48"
   },
   "outputs": [
    {
     "data": {
      "text/html": [
       "<div>\n",
       "<style scoped>\n",
       "    .dataframe tbody tr th:only-of-type {\n",
       "        vertical-align: middle;\n",
       "    }\n",
       "\n",
       "    .dataframe tbody tr th {\n",
       "        vertical-align: top;\n",
       "    }\n",
       "\n",
       "    .dataframe thead th {\n",
       "        text-align: right;\n",
       "    }\n",
       "</style>\n",
       "<table border=\"1\" class=\"dataframe\">\n",
       "  <thead>\n",
       "    <tr style=\"text-align: right;\">\n",
       "      <th></th>\n",
       "      <th>classifier</th>\n",
       "      <th>features</th>\n",
       "      <th>AUROC</th>\n",
       "      <th>AvgP</th>\n",
       "    </tr>\n",
       "  </thead>\n",
       "  <tbody>\n",
       "    <tr>\n",
       "      <th>0</th>\n",
       "      <td>LinearSVC</td>\n",
       "      <td>text</td>\n",
       "      <td>0.000</td>\n",
       "      <td>0.000</td>\n",
       "    </tr>\n",
       "    <tr>\n",
       "      <th>1</th>\n",
       "      <td>LinearSVC</td>\n",
       "      <td>title</td>\n",
       "      <td>0.517</td>\n",
       "      <td>0.248</td>\n",
       "    </tr>\n",
       "    <tr>\n",
       "      <th>2</th>\n",
       "      <td>LogisticRegression</td>\n",
       "      <td>text</td>\n",
       "      <td>0.000</td>\n",
       "      <td>0.000</td>\n",
       "    </tr>\n",
       "    <tr>\n",
       "      <th>3</th>\n",
       "      <td>LogisticRegression</td>\n",
       "      <td>title</td>\n",
       "      <td>0.538</td>\n",
       "      <td>0.259</td>\n",
       "    </tr>\n",
       "    <tr>\n",
       "      <th>4</th>\n",
       "      <td>RandomForestClassifier</td>\n",
       "      <td>text</td>\n",
       "      <td>0.000</td>\n",
       "      <td>0.000</td>\n",
       "    </tr>\n",
       "    <tr>\n",
       "      <th>5</th>\n",
       "      <td>RandomForestClassifier</td>\n",
       "      <td>title</td>\n",
       "      <td>0.553</td>\n",
       "      <td>0.287</td>\n",
       "    </tr>\n",
       "  </tbody>\n",
       "</table>\n",
       "</div>"
      ],
      "text/plain": [
       "               classifier features  AUROC   AvgP\n",
       "0               LinearSVC     text  0.000  0.000\n",
       "1               LinearSVC    title  0.517  0.248\n",
       "2      LogisticRegression     text  0.000  0.000\n",
       "3      LogisticRegression    title  0.538  0.259\n",
       "4  RandomForestClassifier     text  0.000  0.000\n",
       "5  RandomForestClassifier    title  0.553  0.287"
      ]
     },
     "execution_count": 33,
     "metadata": {
      "tags": []
     },
     "output_type": "execute_result"
    }
   ],
   "source": [
    "result_comp"
   ]
  },
  {
   "cell_type": "markdown",
   "metadata": {},
   "source": [
    "Here, we can see 0.0 AUROC and Average precision scores for news body text classification using complexity features. This "
   ]
  },
  {
   "cell_type": "markdown",
   "metadata": {
    "id": "Jm_7hxSvVNcp"
   },
   "source": [
    "# Run classification with only four features used by Horne and Adali"
   ]
  },
  {
   "cell_type": "code",
   "execution_count": 34,
   "metadata": {
    "colab": {
     "base_uri": "https://localhost:8080/"
    },
    "executionInfo": {
     "elapsed": 3501,
     "status": "ok",
     "timestamp": 1604114758866,
     "user": {
      "displayName": "Anu Shrestha",
      "photoUrl": "",
      "userId": "15243898305987665146"
     },
     "user_tz": 360
    },
    "id": "O2qRMYMS_qOP",
    "outputId": "bd396c83-a5c8-4507-8609-78e7c15a6fcf"
   },
   "outputs": [
    {
     "name": "stderr",
     "output_type": "stream",
     "text": [
      "100%|██████████| 1/1 [00:02<00:00,  2.75s/it]\n"
     ]
    },
    {
     "data": {
      "text/plain": [
       "(               classifier features  AUROC   AvgP\n",
       " 0               LinearSVC     text  0.544  0.445\n",
       " 1               LinearSVC    title  0.649  0.531\n",
       " 2      LogisticRegression     text  0.754  0.663\n",
       " 3      LogisticRegression    title  0.643  0.530\n",
       " 4  RandomForestClassifier     text  0.861  0.803\n",
       " 5  RandomForestClassifier    title  0.735  0.612,\n",
       " ['text_num_nouns', 'text_lexical_diversity', 'text_WC', 'text_Quote'],\n",
       " ['title_flesch_kincaid_grade_level',\n",
       "  'title_num_nouns',\n",
       "  'title_percentage_stopwords',\n",
       "  'title_wlen'])"
      ]
     },
     "execution_count": 34,
     "metadata": {
      "tags": []
     },
     "output_type": "execute_result"
    }
   ],
   "source": [
    "text = ['text_num_nouns', 'text_lexical_diversity', 'text_WC','text_Quote']\n",
    "title = ['title_flesch_kincaid_grade_level','title_num_nouns','title_percentage_stopwords','title_wlen']\n",
    "classification_result(df_final_p, text, title, False)"
   ]
  },
  {
   "cell_type": "code",
   "execution_count": 19,
   "metadata": {
    "executionInfo": {
     "elapsed": 123078,
     "status": "ok",
     "timestamp": 1604113451242,
     "user": {
      "displayName": "Anu Shrestha",
      "photoUrl": "",
      "userId": "15243898305987665146"
     },
     "user_tz": 360
    },
    "id": "txzb2E_rSQeO"
   },
   "outputs": [],
   "source": []
  }
 ],
 "metadata": {
  "colab": {
   "authorship_tag": "ABX9TyMFqCS50Oc2gEXDGRVqYJFN",
   "collapsed_sections": [],
   "name": "step5_classification.ipynb",
   "provenance": []
  },
  "kernelspec": {
   "display_name": "Python 3",
   "language": "python",
   "name": "python3"
  }
 },
 "nbformat": 4,
 "nbformat_minor": 1
}
